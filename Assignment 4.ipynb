{
 "cells": [
  {
   "cell_type": "code",
   "execution_count": 1,
   "metadata": {},
   "outputs": [],
   "source": [
    "import torch\n",
    "import torch.autograd\n",
    "from torch.autograd import Variable\n",
    "\n",
    "def mlp(x, Weight, Bias, Func):\n",
    "    f = Variable(x, requires_grad=False)\n",
    "    NumOfLayers = len(Weight)\n",
    "    for i in range(NumOfLayers):\n",
    "        f = Func[i](torch.matmul(Weight[i], f) + Bias[i])\n",
    "    return f"
   ]
  },
  {
   "cell_type": "markdown",
   "metadata": {},
   "source": [
    "## Part 1"
   ]
  },
  {
   "cell_type": "code",
   "execution_count": 2,
   "metadata": {},
   "outputs": [
    {
     "name": "stdout",
     "output_type": "stream",
     "text": [
      "Outputs are:\n",
      "tensor(0.7291, dtype=torch.float64, grad_fn=<SelectBackward>)\n"
     ]
    }
   ],
   "source": [
    "sizes = [1, 2, 1]\n",
    "\n",
    "x = 10*torch.rand(sizes[0]).double()\n",
    "\n",
    "Weight = []\n",
    "Bias = []\n",
    "Func = []\n",
    "\n",
    "for i in range(len(sizes)-1):\n",
    "    # For layer i, Weights are a S_{i+1} \\times S_{i} matrix\n",
    "    W = Variable(torch.randn(sizes[i+1], sizes[i]).double(), requires_grad=True)\n",
    "    # For layer i, Biases are a S_{i+1} \\times 1 matrix (a vector)\n",
    "    b = Variable(torch.randn(sizes[i+1], 1).double(), requires_grad=True)\n",
    "    \n",
    "    Weight.append(W)\n",
    "    Bias.append(b)\n",
    "    Func.append(torch.sigmoid)\n",
    "\n",
    "f = mlp(x, Weight, Bias, Func)\n",
    "\n",
    "print(\"Outputs are:\")\n",
    "\n",
    "for i in range(sizes[-1]):\n",
    "    print(f[i][-1])"
   ]
  },
  {
   "cell_type": "markdown",
   "metadata": {},
   "source": [
    "## Part 2"
   ]
  },
  {
   "cell_type": "code",
   "execution_count": 3,
   "metadata": {},
   "outputs": [
    {
     "name": "stdout",
     "output_type": "stream",
     "text": [
      "Outputs are:\n",
      "tensor(0.3035, dtype=torch.float64, grad_fn=<SelectBackward>)\n"
     ]
    }
   ],
   "source": [
    "sizes = [4, 2, 1]\n",
    "\n",
    "x = 10*torch.rand(sizes[0]).double()\n",
    "\n",
    "Weight = []\n",
    "Bias = []\n",
    "Func = []\n",
    "\n",
    "for i in range(len(sizes)-1):\n",
    "    # For layer i, Weights are a S_{i+1} \\times S_{i} matrix\n",
    "    W = Variable(torch.randn(sizes[i+1], sizes[i]).double(), requires_grad=True)\n",
    "    # For layer i, Biases are a S_{i+1} \\times 1 matrix (a vector)\n",
    "    b = Variable(torch.randn(sizes[i+1], 1).double(), requires_grad=True)\n",
    "    \n",
    "    Weight.append(W)\n",
    "    Bias.append(b)\n",
    "    Func.append(torch.sigmoid)\n",
    "\n",
    "f = mlp(x, Weight, Bias, Func)\n",
    "\n",
    "print(\"Outputs are:\")\n",
    "\n",
    "for i in range(sizes[-1]):\n",
    "    print(f[i][-1])"
   ]
  },
  {
   "cell_type": "markdown",
   "metadata": {},
   "source": [
    "### İris Dataset"
   ]
  },
  {
   "cell_type": "code",
   "execution_count": 5,
   "metadata": {},
   "outputs": [
    {
     "name": "stdout",
     "output_type": "stream",
     "text": [
      "Accuracy: tensor(33.3333) %\n"
     ]
    }
   ],
   "source": [
    "import pandas as pd\n",
    "import numpy as np\n",
    "\n",
    "def logsumexp(b):\n",
    "    return torch.log(1 + torch.exp(b))\n",
    "\n",
    "sizes = [4, 2, 1]\n",
    "\n",
    "df_iris = pd.read_csv(u'data/iris.txt',sep=' ')\n",
    "\n",
    "y = torch.from_numpy(np.array(df_iris['c'])).double()\n",
    "y[y>1]=0\n",
    "\n",
    "x = torch.from_numpy(np.array(df_iris[['sl','sw','pl','pw']])).double()\n",
    "\n",
    "Weight = []\n",
    "Bias = []\n",
    "Func = []\n",
    "\n",
    "for i in range(len(sizes)-1):\n",
    "    # For layer i, Weights are a S_{i+1} \\times S_{i} matrix\n",
    "    W = Variable(20*torch.randn(sizes[i+1], sizes[i]).double(), requires_grad=True)\n",
    "    # For layer i, Biases are a S_{i+1} \\times 1 matrix (a vector)\n",
    "    b = Variable(torch.randn(sizes[i+1], 1).double(), requires_grad=True)\n",
    "    \n",
    "    Weight.append(W)\n",
    "    Bias.append(b)\n",
    "    Func.append(torch.sigmoid)\n",
    "\n",
    "eta = 0.0005\n",
    "\n",
    "for epoch in range(1000):\n",
    "    for i in range(len(y)):\n",
    "        f = mlp(x[i,:], Weight, Bias, Func)[-1][-1]\n",
    "        \n",
    "        E = -y[i]*f + logsumexp(f)\n",
    "        \n",
    "        E.backward()\n",
    "    \n",
    "    \n",
    "    for i in range(len(Weight)):\n",
    "        Weight[i].data.add_(-eta * Weight[i].grad.data)\n",
    "    \n",
    "        Weight[i].grad.zero_()\n",
    "\n",
    "result = torch.zeros(len(y))\n",
    "        \n",
    "for i in range(len(y)):\n",
    "    result[i] = torch.round(mlp(x[i,:], Weight, Bias, Func)[-1][-1])\n",
    "\n",
    "confusion_matrix = torch.zeros((2,2))\n",
    "\n",
    "for i in range(len(result)):\n",
    "    confusion_matrix[int(y[i] - 1), int(result[i] - 1)] += 1\n",
    "    \n",
    "accuracy = torch.sum(torch.diag(confusion_matrix))/torch.sum(confusion_matrix)\n",
    "\n",
    "print(\"Accuracy:\", accuracy*100, \"%\")"
   ]
  },
  {
   "cell_type": "code",
   "execution_count": null,
   "metadata": {},
   "outputs": [],
   "source": []
  }
 ],
 "metadata": {
  "kernelspec": {
   "display_name": "Python 3",
   "language": "python",
   "name": "python3"
  },
  "language_info": {
   "codemirror_mode": {
    "name": "ipython",
    "version": 3
   },
   "file_extension": ".py",
   "mimetype": "text/x-python",
   "name": "python",
   "nbconvert_exporter": "python",
   "pygments_lexer": "ipython3",
   "version": "3.7.0"
  }
 },
 "nbformat": 4,
 "nbformat_minor": 2
}
