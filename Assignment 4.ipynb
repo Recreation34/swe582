{
 "cells": [
  {
   "cell_type": "code",
   "execution_count": 1,
   "metadata": {},
   "outputs": [],
   "source": [
    "import torch\n",
    "import torch.autograd\n",
    "from torch.autograd import Variable\n",
    "\n",
    "def mlp(x, Weight, Bias):\n",
    "    f = Variable(x, requires_grad=False) # Initializing f with x\n",
    "\n",
    "    # f = sigmoid(w.dot(x) + b)\n",
    "    for i in range(len(Weight)):\n",
    "        #print(\"f (\",f.shape,\"):\\n\",f,\"\\n\")\n",
    "        #print(\"Weight[\",i,\"] (\",Weight[i].shape,\"):\\n\",Weight[i],\"\\n\")\n",
    "        #print(\"Bias[\",i,\"] (\",Bias[i].shape,\"):\\n\",Bias[i],\"\\n\")\n",
    "        #print(\"Multiplication of matrices Weight[\",i,\"] & f (\",torch.matmul(Weight[i], f).shape,\"):\\n\",torch.matmul(Weight[i], f),\"\\n\")\n",
    "        #print(\"Sum of above & Bias[\",i,\"] (\",(torch.matmul(Weight[i], f) + Bias[i]).shape,\"):\\n\",torch.matmul(Weight[i], f) + Bias[i],\"\\n\")\n",
    "        #print(\"\\n\")\n",
    "        f = torch.sigmoid(torch.matmul(Weight[i], f) + Bias[i])\n",
    "    return f"
   ]
  },
  {
   "cell_type": "markdown",
   "metadata": {},
   "source": [
    "## Part 1"
   ]
  },
  {
   "cell_type": "code",
   "execution_count": 2,
   "metadata": {},
   "outputs": [
    {
     "name": "stdout",
     "output_type": "stream",
     "text": [
      "tensor([[0.7065]], dtype=torch.float64)\n"
     ]
    }
   ],
   "source": [
    "sizes = [1,2,1]\n",
    "N = 1 # input dimension\n",
    "\n",
    "x = 10*torch.rand(sizes[0], N).double()\n",
    "\n",
    "Weight = []\n",
    "Bias = []\n",
    "\n",
    "for i in range(len(sizes)-1):\n",
    "    # For layer i, Weights are a S_{i+1} \\times S_{i} matrix\n",
    "    W = Variable(torch.randn(sizes[i+1], sizes[i]).double(), requires_grad=True)\n",
    "    # For layer i, Biases are a S_{i+1} \\times 1 matrix (a vector)\n",
    "    b = Variable(torch.randn(sizes[i+1], 1).double(), requires_grad=True)\n",
    "    \n",
    "    Weight.append(W)\n",
    "    Bias.append(b)\n",
    "\n",
    "f = mlp(x, Weight, Bias)\n",
    "\n",
    "print(f.data)"
   ]
  },
  {
   "cell_type": "markdown",
   "metadata": {},
   "source": [
    "## Part 2"
   ]
  },
  {
   "cell_type": "code",
   "execution_count": 3,
   "metadata": {},
   "outputs": [
    {
     "name": "stdout",
     "output_type": "stream",
     "text": [
      "tensor([[0.4441]], dtype=torch.float64)\n"
     ]
    }
   ],
   "source": [
    "sizes = [4, 2, 1]\n",
    "N = 1 # input dimension\n",
    "\n",
    "x = 10*torch.rand(sizes[0], N).double()\n",
    "\n",
    "Weight = []\n",
    "Bias = []\n",
    "\n",
    "for i in range(len(sizes)-1):\n",
    "    # For layer i, Weights are a S_{i+1} \\times S_{i} matrix\n",
    "    W = Variable(torch.randn(sizes[i+1], sizes[i]).double(), requires_grad=True)\n",
    "    # For layer i, Biases are a S_{i+1} \\times 1 matrix (a vector)\n",
    "    b = Variable(torch.randn(sizes[i+1], 1).double(), requires_grad=True)\n",
    "    \n",
    "    Weight.append(W)\n",
    "    Bias.append(b)\n",
    "\n",
    "f = mlp(x, Weight, Bias)\n",
    "\n",
    "print(f.data)"
   ]
  },
  {
   "cell_type": "markdown",
   "metadata": {},
   "source": [
    "### İris Dataset"
   ]
  },
  {
   "cell_type": "code",
   "execution_count": 4,
   "metadata": {},
   "outputs": [
    {
     "name": "stderr",
     "output_type": "stream",
     "text": [
      "C:\\ProgramData\\Anaconda3\\lib\\site-packages\\torch\\nn\\functional.py:52: UserWarning: size_average and reduce args will be deprecated, please use reduction='elementwise_mean' instead.\n",
      "  warnings.warn(warning.format(ret))\n"
     ]
    },
    {
     "name": "stdout",
     "output_type": "stream",
     "text": [
      "In epoch  0 , EE is: 0.9995543394991954\n",
      "In epoch  100 , EE is: 4.968651137121534e-08\n",
      "In epoch  200 , EE is: 4.970864968617287e-08\n",
      "In epoch  300 , EE is: 0.9995541410193017\n",
      "In epoch  400 , EE is: 4.973079290883436e-08\n",
      "In epoch  500 , EE is: 4.975296081996485e-08\n",
      "In epoch  600 , EE is: 0.9995539423626378\n",
      "In epoch  700 , EE is: 4.977513364753527e-08\n",
      "In epoch  800 , EE is: 4.979733120760128e-08\n",
      "In epoch  900 , EE is: 0.9995537435289678\n",
      "Confusion matrix:\n",
      " tensor([[  0.,  50.],\n",
      "        [  0., 100.]]) \n",
      "\n",
      "Accuracy: tensor(66.6667) %\n",
      "\n",
      "Final Error is: 8.217252768461607e-08\n"
     ]
    }
   ],
   "source": [
    "import pandas as pd\n",
    "import numpy as np\n",
    "\n",
    "def logsumexp(b):\n",
    "    return torch.log(1 + torch.exp(b))\n",
    "\n",
    "# 3 layers: 4 inputs-2 hidden variables-1 output\n",
    "sizes = [4, 2, 1]\n",
    "N = 1 # input dimension\n",
    "\n",
    "df_iris = pd.read_csv(u'data/iris.txt',sep=' ')\n",
    "\n",
    "# Get İris data targets, set values bigger than 1 to 0\n",
    "y = torch.from_numpy(np.array(df_iris['c'])).double()\n",
    "y[y>1]=0\n",
    "y.reshape(len(y), N)\n",
    "\n",
    "# Get İris data features\n",
    "x = torch.from_numpy(np.array(df_iris[['sl','sw','pl','pw']])).double()\n",
    "\n",
    "Weight = []\n",
    "Bias = []\n",
    "\n",
    "# Initializing Weight and Bias with random values\n",
    "for i in range(len(sizes)-1):\n",
    "    # For layer i, Weights are a sizes[i+1] x sizes[i] matrix\n",
    "    W = Variable(20*torch.randn(sizes[i+1], sizes[i]).double(), requires_grad=True)\n",
    "    \n",
    "    # For layer i, Biases are a sizes[i+1] x 1 vector\n",
    "    b = Variable(torch.randn(sizes[i+1], 1).double(), requires_grad=True)\n",
    "    \n",
    "    Weight.append(W)\n",
    "    Bias.append(b)\n",
    "\n",
    "# Euclidian cost error function\n",
    "Error = torch.nn.MSELoss(size_average=True)\n",
    "    \n",
    "# Iteration variables\n",
    "eta = 0.005\n",
    "MAX_ITER = 1000\n",
    "EE = []\n",
    "\n",
    "for epoch in range(MAX_ITER):  \n",
    "    for i in range(len(y)):\n",
    "        f = mlp(x[i,:].reshape(sizes[0], N), Weight, Bias) # converting [4] sized x vector to [4,1] matrix\n",
    "\n",
    "        # Measure the error\n",
    "        E = Error(f, y[i].reshape(sizes[-1], N)) # converting [1] sized y vector to [1,1] matrix\n",
    "        EE.append(E.data.numpy())\n",
    "\n",
    "        # Compute the derivative of the error with respect to Weights and Biases\n",
    "        E.backward() \n",
    "\n",
    "        # Take the step and reset weights\n",
    "        for j in range(len(sizes)-1):\n",
    "            Weight[j].data.add_(-eta*Weight[j].grad.data)\n",
    "            Bias[j].data.add_(-eta*Bias[j].grad.data)\n",
    "            Weight[j].grad.zero_()\n",
    "            Bias[j].grad.zero_()\n",
    "    \n",
    "    if(epoch%100==0):\n",
    "        print(\"In epoch \", epoch, \", EE is:\", EE[epoch])\n",
    "\n",
    "result = torch.zeros(len(y))\n",
    "        \n",
    "for i in range(len(y)):\n",
    "    result[i] = torch.round(mlp(x[i,:].reshape(sizes[0], N), Weight, Bias))\n",
    "\n",
    "confusion_matrix = torch.zeros((2,2))\n",
    "\n",
    "for i in range(len(result)):\n",
    "    confusion_matrix[int(y[i] - 1), int(result[i] - 1)] += 1\n",
    "    \n",
    "print(\"Confusion matrix:\\n\", confusion_matrix, \"\\n\")\n",
    "    \n",
    "accuracy = torch.sum(torch.diag(confusion_matrix))/torch.sum(confusion_matrix)\n",
    "\n",
    "print(\"Accuracy:\", accuracy*100, \"%\\n\")\n",
    "\n",
    "print(\"Final Error is:\", EE[-1])"
   ]
  },
  {
   "cell_type": "code",
   "execution_count": null,
   "metadata": {
    "collapsed": true
   },
   "outputs": [],
   "source": []
  }
 ],
 "metadata": {
  "kernelspec": {
   "display_name": "Python 3",
   "language": "python",
   "name": "python3"
  },
  "language_info": {
   "codemirror_mode": {
    "name": "ipython",
    "version": 3
   },
   "file_extension": ".py",
   "mimetype": "text/x-python",
   "name": "python",
   "nbconvert_exporter": "python",
   "pygments_lexer": "ipython3",
   "version": "3.6.3"
  }
 },
 "nbformat": 4,
 "nbformat_minor": 2
}
