{
 "cells": [
  {
   "cell_type": "code",
   "execution_count": 1,
   "metadata": {},
   "outputs": [],
   "source": [
    "import torch\n",
    "import torch.autograd\n",
    "from torch.autograd import Variable\n",
    "\n",
    "def mlp(x, Weight, Bias, Func):\n",
    "    f = Variable(x, requires_grad=False)\n",
    "    #print(f,\"\\n\\n\")\n",
    "    #print(Weight[0],\"\\n\\n\")\n",
    "    #print(Func[0](torch.matmul(Weight[0], f) + Bias[0]),\"\\n\\n\")\n",
    "    NumOfLayers = len(Weight)\n",
    "    for i in range(NumOfLayers):\n",
    "        f = Func[i](torch.matmul(Weight[i], f) + Bias[i])\n",
    "        #print(f,\"\\n\\n\")\n",
    "    return f"
   ]
  },
  {
   "cell_type": "markdown",
   "metadata": {},
   "source": [
    "## Part 1"
   ]
  },
  {
   "cell_type": "code",
   "execution_count": 2,
   "metadata": {},
   "outputs": [
    {
     "name": "stdout",
     "output_type": "stream",
     "text": [
      "tensor([[0.4009, 0.2272]], dtype=torch.float64, grad_fn=<SigmoidBackward>)\n"
     ]
    }
   ],
   "source": [
    "sizes = [1,2,1]\n",
    "\n",
    "x = 10*torch.rand(sizes[0]).double()\n",
    "\n",
    "Weight = []\n",
    "Bias = []\n",
    "Func = []\n",
    "\n",
    "for i in range(len(sizes)-1):\n",
    "    # For layer i, Weights are a S_{i+1} \\times S_{i} matrix\n",
    "    W = Variable(torch.randn(sizes[i+1], sizes[i]).double(), requires_grad=True)\n",
    "    # For layer i, Biases are a S_{i+1} \\times 1 matrix (a vector)\n",
    "    b = Variable(torch.randn(sizes[i+1], 1).double(), requires_grad=True)\n",
    "    \n",
    "    Weight.append(W)\n",
    "    Bias.append(b)\n",
    "    Func.append(torch.sigmoid)\n",
    "\n",
    "f = mlp(x, Weight, Bias, Func)\n",
    "\n",
    "print(f)"
   ]
  },
  {
   "cell_type": "markdown",
   "metadata": {},
   "source": [
    "## Part 2"
   ]
  },
  {
   "cell_type": "code",
   "execution_count": 3,
   "metadata": {},
   "outputs": [
    {
     "name": "stdout",
     "output_type": "stream",
     "text": [
      "tensor([[0.2615, 0.3297]], dtype=torch.float64, grad_fn=<SigmoidBackward>)\n"
     ]
    }
   ],
   "source": [
    "sizes = [4, 2, 1]\n",
    "\n",
    "x = 10*torch.rand(sizes[0]).double()\n",
    "\n",
    "Weight = []\n",
    "Bias = []\n",
    "Func = []\n",
    "\n",
    "for i in range(len(sizes)-1):\n",
    "    # For layer i, Weights are a S_{i+1} \\times S_{i} matrix\n",
    "    W = Variable(torch.randn(sizes[i+1], sizes[i]).double(), requires_grad=True)\n",
    "    # For layer i, Biases are a S_{i+1} \\times 1 matrix (a vector)\n",
    "    b = Variable(torch.randn(sizes[i+1], 1).double(), requires_grad=True)\n",
    "    \n",
    "    Weight.append(W)\n",
    "    Bias.append(b)\n",
    "    Func.append(torch.sigmoid)\n",
    "    \n",
    "f = mlp(x, Weight, Bias, Func)\n",
    "\n",
    "print(f)"
   ]
  },
  {
   "cell_type": "markdown",
   "metadata": {},
   "source": [
    "### İris Dataset"
   ]
  },
  {
   "cell_type": "code",
   "execution_count": 6,
   "metadata": {},
   "outputs": [
    {
     "name": "stderr",
     "output_type": "stream",
     "text": [
      "C:\\ProgramData\\Anaconda3\\lib\\site-packages\\torch\\nn\\functional.py:52: UserWarning: size_average and reduce args will be deprecated, please use reduction='elementwise_mean' instead.\n",
      "  warnings.warn(warning.format(ret))\n"
     ]
    },
    {
     "name": "stdout",
     "output_type": "stream",
     "text": [
      "In epoch  0 , EE is: 0.9675139198736301\n",
      "In epoch  100 , EE is: 0.0002809652970227631\n",
      "In epoch  200 , EE is: 0.00029463459122299265\n",
      "In epoch  300 , EE is: 0.965993560449552\n",
      "In epoch  400 , EE is: 0.00030875439241159254\n",
      "In epoch  500 , EE is: 0.00032447310903033796\n",
      "In epoch  600 , EE is: 0.964331360854156\n",
      "In epoch  700 , EE is: 0.0003407272044038618\n",
      "In epoch  800 , EE is: 0.0003589139742345957\n",
      "In epoch  900 , EE is: 0.9625073283455486\n",
      "Confusion matrix:\n",
      " tensor([[  0.,  50.],\n",
      "        [  0., 100.]]) \n",
      "\n",
      "Accuracy: tensor(66.6667) %\n",
      "\n",
      "Final Error is: 0.09595984891197484\n"
     ]
    }
   ],
   "source": [
    "import pandas as pd\n",
    "import numpy as np\n",
    "\n",
    "def logsumexp(b):\n",
    "    return torch.log(1 + torch.exp(b))\n",
    "\n",
    "def mlp(x, Weight, Bias, Func):\n",
    "    f = Variable(x, requires_grad=False) # Initializing f with x\n",
    "\n",
    "    # f = sigmoid(w.dot(x) + b)\n",
    "    for i in range(len(Weight)):\n",
    "        f = torch.sigmoid(torch.matmul(Weight[i], f) + Bias[i])\n",
    "        \n",
    "    return f\n",
    "\n",
    "# 3 layers: 4 inputs-2 hidden variables-1 output\n",
    "sizes = [4, 2, 1]\n",
    "\n",
    "df_iris = pd.read_csv(u'data/iris.txt',sep=' ')\n",
    "\n",
    "# Get İris data targets, set values bigger than 1 to 0\n",
    "y = torch.from_numpy(np.array(df_iris['c'])).double()\n",
    "y[y>1]=0\n",
    "\n",
    "# Get İris data features\n",
    "x = torch.from_numpy(np.array(df_iris[['sl','sw','pl','pw']])).double()\n",
    "\n",
    "Weight = []\n",
    "Bias = []\n",
    "\n",
    "# Initializing Weight and Bias with random values\n",
    "for i in range(len(sizes)-1):\n",
    "    # For layer i, Weights are a sizes[i+1] x sizes[i] matrix\n",
    "    W = Variable(20*torch.randn(sizes[i+1], sizes[i]).double(), requires_grad=True)\n",
    "    \n",
    "    # For layer i, Biases are a sizes[i+1] x 1 vector\n",
    "    b = Variable(torch.randn(sizes[i+1], 1).double(), requires_grad=True)\n",
    "    \n",
    "    Weight.append(W)\n",
    "    Bias.append(b)\n",
    "\n",
    "# Euclidian cost error function\n",
    "Error = torch.nn.MSELoss(size_average=True)\n",
    "    \n",
    "# Iteration variables\n",
    "eta = 0.005\n",
    "MAX_ITER = 1000\n",
    "EE = []\n",
    "\n",
    "for epoch in range(MAX_ITER):  \n",
    "    for i in range(len(y)):\n",
    "        f = mlp(x[i,:], Weight, Bias, Func)\n",
    "\n",
    "        # Measure the error\n",
    "        E = Error(f[-1][-1], y[i])\n",
    "        EE.append(E.data.numpy())\n",
    "\n",
    "        # Compute the derivative of the error with respect to Weights and Biases\n",
    "        E.backward() \n",
    "\n",
    "        # Take the step and reset weights\n",
    "        for j in range(len(sizes)-1):\n",
    "            Weight[j].data.add_(-eta*Weight[j].grad.data)\n",
    "            Bias[j].data.add_(-eta*Bias[j].grad.data)\n",
    "            Weight[j].grad.zero_()\n",
    "            Bias[j].grad.zero_()\n",
    "    \n",
    "    if(epoch%100==0):\n",
    "        print(\"In epoch \", epoch, \", EE is:\", EE[epoch])\n",
    "\n",
    "result = torch.zeros(len(y))\n",
    "        \n",
    "for i in range(len(y)):\n",
    "    result[i] = torch.round(mlp(x[i,:], Weight, Bias, Func)[-1][-1])\n",
    "\n",
    "confusion_matrix = torch.zeros((2,2))\n",
    "\n",
    "for i in range(len(result)):\n",
    "    confusion_matrix[int(y[i] - 1), int(result[i] - 1)] += 1\n",
    "    \n",
    "print(\"Confusion matrix:\\n\", confusion_matrix, \"\\n\")\n",
    "    \n",
    "accuracy = torch.sum(torch.diag(confusion_matrix))/torch.sum(confusion_matrix)\n",
    "\n",
    "print(\"Accuracy:\", accuracy*100, \"%\\n\")\n",
    "\n",
    "print(\"Final Error is:\", EE[-1])"
   ]
  },
  {
   "cell_type": "code",
   "execution_count": null,
   "metadata": {},
   "outputs": [],
   "source": []
  }
 ],
 "metadata": {
  "kernelspec": {
   "display_name": "Python 3",
   "language": "python",
   "name": "python3"
  },
  "language_info": {
   "codemirror_mode": {
    "name": "ipython",
    "version": 3
   },
   "file_extension": ".py",
   "mimetype": "text/x-python",
   "name": "python",
   "nbconvert_exporter": "python",
   "pygments_lexer": "ipython3",
   "version": "3.7.0"
  }
 },
 "nbformat": 4,
 "nbformat_minor": 2
}
