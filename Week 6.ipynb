{
 "cells": [
  {
   "cell_type": "code",
   "execution_count": 1,
   "metadata": {
    "collapsed": true
   },
   "outputs": [],
   "source": [
    "#matplotlib inline\n",
    "import matplotlib.pylab as plt\n",
    "import numpy as np\n",
    "\n",
    "import torch\n",
    "import torch.autograd\n",
    "from torch.autograd import Variable"
   ]
  },
  {
   "cell_type": "code",
   "execution_count": 9,
   "metadata": {},
   "outputs": [],
   "source": [
    "y = [32,29,49,13,51,28,35]"
   ]
  },
  {
   "cell_type": "code",
   "execution_count": 17,
   "metadata": {
    "collapsed": true
   },
   "outputs": [],
   "source": [
    "eta = 0.005"
   ]
  },
  {
   "cell_type": "code",
   "execution_count": 21,
   "metadata": {},
   "outputs": [
    {
     "name": "stdout",
     "output_type": "stream",
     "text": [
      "tensor([33.9337], dtype=torch.float64)\n"
     ]
    }
   ],
   "source": [
    "w = Variable(200*torch.randn(1).double(), requires_grad=True)\n",
    "\n",
    "for epoch in range(100):\n",
    "    for i in range(len(y)):\n",
    "        f = w\n",
    "        E = (y[i] - f)**2\n",
    "        \n",
    "        E.backward()\n",
    "        \n",
    "        w.data.add_(-eta * w.grad.data)\n",
    "    \n",
    "        w.grad.zero_()\n",
    "\n",
    "ws = w.data\n",
    "print(ws)\n",
    "        "
   ]
  },
  {
   "cell_type": "code",
   "execution_count": 35,
   "metadata": {},
   "outputs": [
    {
     "data": {
      "image/png": "[encoded data removed]",
      "text/plain": [
       "<matplotlib.figure.Figure at 0x25049378b00>"
      ]
     },
     "metadata": {},
     "output_type": "display_data"
    },
    {
     "data": {
      "image/png": "[encoded data removed]",
      "text/plain": [
       "<matplotlib.figure.Figure at 0x250493bab70>"
      ]
     },
     "metadata": {},
     "output_type": "display_data"
    }
   ],
   "source": [
    "def sigmoid(x):\n",
    "    return 1 / (1 + np.exp(-x))\n",
    "\n",
    "x = np.arange(-10.0, 10.0, 0.1)\n",
    "\n",
    "plt.plot(x, sigmoid(x))\n",
    "plt.grid(True)\n",
    "plt.title(\"Sigmoid Function\")\n",
    "plt.show()\n",
    "\n",
    "plt.plot(x, np.log(sigmoid(x)))\n",
    "plt.grid(True)\n",
    "plt.title(\"Logarithm of Sigmoid Function\")\n",
    "plt.show()\n"
   ]
  },
  {
   "cell_type": "code",
   "execution_count": 64,
   "metadata": {},
   "outputs": [
    {
     "name": "stdout",
     "output_type": "stream",
     "text": [
      "tensor([-20.0149,   5.7491,  21.1396,  -0.9967], dtype=torch.float64)\n"
     ]
    }
   ],
   "source": [
    "#matplotlib inline\n",
    "import matplotlib.pylab as plt\n",
    "import numpy as np\n",
    "import pandas as pd\n",
    "\n",
    "import torch\n",
    "import torch.autograd\n",
    "from torch.autograd import Variable\n",
    "\n",
    "def logsumexp(b):\n",
    "    return torch.log(1 + torch.exp(b))\n",
    "\n",
    "def f(x):\n",
    "    return torch.log(1 / (1 + torch.exp(-x)))\n",
    "\n",
    "df_iris = pd.read_csv(u'data/iris.txt',sep=' ')\n",
    "\n",
    "y = torch.from_numpy(np.array(df_iris['c'])).double()\n",
    "y[y>1]=0\n",
    "\n",
    "x = torch.from_numpy(np.array(df_iris[['sl','sw','pl','pw']])).double()\n",
    "\n",
    "w = Variable(20*torch.randn(4).double(), requires_grad=True)\n",
    "\n",
    "eta = 0.00005\n",
    "\n",
    "for epoch in range(1000):\n",
    "    for i in range(len(y)):\n",
    "        f = torch.matmul(x[i,:],w)\n",
    "        \n",
    "        E = -y[i]*f + logsumexp(f)\n",
    "        \n",
    "        E.backward()\n",
    "\n",
    "    w.data.add_(-eta * w.grad.data)\n",
    "    \n",
    "    w.grad.zero_()\n",
    "    \n",
    "ws = w.data\n",
    "print(ws)"
   ]
  },
  {
   "cell_type": "code",
   "execution_count": 66,
   "metadata": {},
   "outputs": [
    {
     "name": "stdout",
     "output_type": "stream",
     "text": [
      "tensor([ 15.6429,  -7.4401, -14.9630, -14.4475], dtype=torch.float64)\n"
     ]
    }
   ],
   "source": [
    "#matplotlib inline\n",
    "import matplotlib.pylab as plt\n",
    "import numpy as np\n",
    "import pandas as pd\n",
    "\n",
    "import torch\n",
    "import torch.autograd\n",
    "from torch.autograd import Variable\n",
    "\n",
    "def logsumexp(b):\n",
    "    return torch.log(1 + torch.exp(b))\n",
    "\n",
    "def f(x):\n",
    "    return torch.log(1 / (1 + torch.exp(-x)))\n",
    "\n",
    "df_iris = pd.read_csv(u'data/iris.txt',sep=' ')\n",
    "\n",
    "y = torch.from_numpy(np.array(df_iris['c'])).double()\n",
    "y[y>1]=0\n",
    "\n",
    "x = torch.from_numpy(np.array(df_iris[['sl','sw','pl','pw']])).double()\n",
    "\n",
    "w = Variable(20*torch.randn(4).double(), requires_grad=True)\n",
    "\n",
    "eta = 0.00005\n",
    "\n",
    "for epoch in range(1000):\n",
    "    for i in range(len(y)):\n",
    "        f = torch.matmul(x[i,:],w)\n",
    "        \n",
    "        E = -y[i]*f + logsumexp(f)\n",
    "        \n",
    "        E.backward()\n",
    "\n",
    "        w.data.add_(-eta * w.grad.data)\n",
    "    \n",
    "        w.grad.zero_()\n",
    "    \n",
    "ws = w.data\n",
    "print(ws)"
   ]
  },
  {
   "cell_type": "code",
   "execution_count": null,
   "metadata": {
    "collapsed": true
   },
   "outputs": [],
   "source": []
  }
 ],
 "metadata": {
  "kernelspec": {
   "display_name": "Python 3",
   "language": "python",
   "name": "python3"
  },
  "language_info": {
   "codemirror_mode": {
    "name": "ipython",
    "version": 3
   },
   "file_extension": ".py",
   "mimetype": "text/x-python",
   "name": "python",
   "nbconvert_exporter": "python",
   "pygments_lexer": "ipython3",
   "version": "3.6.3"
  }
 },
 "nbformat": 4,
 "nbformat_minor": 2
}
