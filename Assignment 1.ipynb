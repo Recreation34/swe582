{
 "cells": [
  {
   "cell_type": "code",
   "execution_count": 194,
   "metadata": {},
   "outputs": [],
   "source": [
    "import numpy as np\n",
    "import pandas as pd\n",
    "\n",
    "data = pd.read_csv(u'data/car.txt',sep=',', header=None, usecols=[0, 1, 2, 3, 4, 5])"
   ]
  },
  {
   "cell_type": "code",
   "execution_count": 195,
   "metadata": {},
   "outputs": [],
   "source": [
    "#manipulation of 'buying' column of the data as setting 'vhigh' values to 1 and 'low' values to 4\n",
    "temp = data[0].copy()\n",
    "for i in range(len(temp)):\n",
    "    if(temp[i] == \"vhigh\"):\n",
    "       temp[i] = 1.0\n",
    "    elif(temp[i] == \"high\"):\n",
    "       temp[i] = 2.0\n",
    "    elif(temp[i] == \"med\"):\n",
    "       temp[i] = 3.0\n",
    "    elif(temp[i] == \"low\"):\n",
    "       temp[i] = 4.0\n",
    "    else:\n",
    "        temp[i] = float(temp[i])\n",
    "data[0] = temp\n",
    "\n",
    "#manipulation of 'maint' column of the data as setting 'vhigh' values to 1 and 'low' values to 4\n",
    "temp = data[1].copy()\n",
    "for i in range(len(temp)):\n",
    "    if(temp[i] == \"vhigh\"):\n",
    "       temp[i] = 1.0\n",
    "    elif(temp[i] == \"high\"):\n",
    "       temp[i] = 2.0\n",
    "    elif(temp[i] == \"med\"):\n",
    "       temp[i] = 3.0\n",
    "    elif(temp[i] == \"low\"):\n",
    "       temp[i] = 4.0\n",
    "    else:\n",
    "        temp[i] = float(temp[i])\n",
    "data[1] = temp\n",
    "\n",
    "#manipulation of 'doors' column of the data as setting '5more' values to 5\n",
    "temp = data[2].copy()\n",
    "for i in range(len(temp)):\n",
    "    if(temp[i] == \"5more\"):\n",
    "       temp[i] = 5.0\n",
    "    else:\n",
    "        temp[i] = float(temp[i])\n",
    "data[2] = temp\n",
    "\n",
    "#manipulation of 'persons' column of the data as setting 'more' values to 6\n",
    "temp = data[3].copy()\n",
    "for i in range(len(temp)):\n",
    "    if(temp[i] == \"more\"):\n",
    "       temp[i] = 6.0\n",
    "    else:\n",
    "        temp[i] = float(temp[i])\n",
    "data[3] = temp\n",
    "\n",
    "#manipulation of 'lug_boot' column of the data as setting 'small' values to 1 and 'big' values to 3\n",
    "temp = data[4].copy()\n",
    "for i in range(len(temp)):\n",
    "    if(temp[i] == \"small\"):\n",
    "       temp[i] = 1.0\n",
    "    elif(temp[i] == \"med\"):\n",
    "       temp[i] = 2.0\n",
    "    elif(temp[i] == \"big\"):\n",
    "       temp[i] = 3.0\n",
    "    else:\n",
    "        temp[i] = float(temp[i])\n",
    "data[4] = temp\n",
    "\n",
    "#manipulation of 'safety' column of the data as setting 'low' values to 1 and 'high' values to 3\n",
    "temp = data[5].copy()\n",
    "for i in range(len(temp)):\n",
    "    if(temp[i] == \"low\"):\n",
    "       temp[i] = 1.0\n",
    "    elif(temp[i] == \"med\"):\n",
    "       temp[i] = 2.0\n",
    "    elif(temp[i] == \"high\"):\n",
    "       temp[i] = 3.0\n",
    "    else:\n",
    "        temp[i] = float(temp[i])\n",
    "data[5] = temp"
   ]
  },
  {
   "cell_type": "code",
   "execution_count": 196,
   "metadata": {},
   "outputs": [],
   "source": [
    "target = pd.read_csv(u'data/car.txt',sep=',', header=None, usecols=[6])\n",
    "\n",
    "#manipulation of 'target' column of the data as setting 'unacc' values to 1 and 'vgood' values to 4\n",
    "temp = target[6].copy()\n",
    "for i in range(len(temp)):\n",
    "    if(temp[i] == \"unacc\"):\n",
    "       temp[i] = 1.0\n",
    "    elif(temp[i] == \"acc\"):\n",
    "       temp[i] = 2.0\n",
    "    elif(temp[i] == \"good\"):\n",
    "       temp[i] = 3.0\n",
    "    elif(temp[i] == \"vgood\"):\n",
    "       temp[i] = 4.0\n",
    "    else:\n",
    "        temp[i] = float(temp[i])\n",
    "target = temp"
   ]
  },
  {
   "cell_type": "code",
   "execution_count": 197,
   "metadata": {
    "collapsed": true
   },
   "outputs": [],
   "source": [
    "w = np.array([1.,1.,1.,1.,1.,1.])\n",
    "\n",
    "eta = 0.000001\n",
    "\n",
    "def f(x, w):\n",
    "    return x.dot(w)\n",
    "\n",
    "def E(y, f):\n",
    "    return np.sum((y-f)**2)"
   ]
  },
  {
   "cell_type": "code",
   "execution_count": 198,
   "metadata": {},
   "outputs": [
    {
     "name": "stdout",
     "output_type": "stream",
     "text": [
      "336301.4665255647\n",
      "584.810785745509\n",
      "574.6698081884044\n",
      "573.9521750852514\n",
      "573.894495069952\n",
      "573.8896019104701\n",
      "573.8891689035306\n",
      "573.8891292629719\n",
      "573.8891255382714\n",
      "573.8891251815678\n"
     ]
    }
   ],
   "source": [
    "for i in range(10000):\n",
    "    e = target - f(data, w)\n",
    "    dE = -data.T.dot(e)\n",
    "    w = w - eta * dE\n",
    "    if(i%1000==0):\n",
    "        print(E(target, f(data, w)))"
   ]
  },
  {
   "cell_type": "code",
   "execution_count": 199,
   "metadata": {},
   "outputs": [
    {
     "data": {
      "text/plain": [
       "array([[ 916.,  294.,    0.,    0.],\n",
       "       [  47.,  337.,    0.,    0.],\n",
       "       [   0.,   69.,    0.,    0.],\n",
       "       [   0.,   65.,    0.,    0.]])"
      ]
     },
     "execution_count": 199,
     "metadata": {},
     "output_type": "execute_result"
    }
   ],
   "source": [
    "result = np.round(np.array(f(data, w)).astype(np.float))\n",
    "\n",
    "confusion_matrix = np.zeros((4,4))\n",
    "\n",
    "for i in range(len(result)):\n",
    "    confusion_matrix[int(target[i] - 1), int(result[i] - 1)] += 1\n",
    "    \n",
    "confusion_matrix"
   ]
  },
  {
   "cell_type": "code",
   "execution_count": 200,
   "metadata": {},
   "outputs": [
    {
     "name": "stdout",
     "output_type": "stream",
     "text": [
      "Accuracy is: 72.5115740741 %\n"
     ]
    }
   ],
   "source": [
    "accuracy = np.sum(np.diag(confusion_matrix))/np.sum(confusion_matrix)\n",
    "\n",
    "print(\"Accuracy is:\", accuracy*100, \"%\")"
   ]
  },
  {
   "cell_type": "code",
   "execution_count": null,
   "metadata": {
    "collapsed": true
   },
   "outputs": [],
   "source": []
  }
 ],
 "metadata": {
  "kernelspec": {
   "display_name": "Python 3",
   "language": "python",
   "name": "python3"
  },
  "language_info": {
   "codemirror_mode": {
    "name": "ipython",
    "version": 3
   },
   "file_extension": ".py",
   "mimetype": "text/x-python",
   "name": "python",
   "nbconvert_exporter": "python",
   "pygments_lexer": "ipython3",
   "version": "3.6.3"
  }
 },
 "nbformat": 4,
 "nbformat_minor": 2
}
