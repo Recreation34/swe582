{
 "cells": [
  {
   "cell_type": "code",
   "execution_count": 1,
   "metadata": {},
   "outputs": [],
   "source": [
    "import numpy as np\n",
    "import pandas as pd\n",
    "\n",
    "data = pd.read_csv(u'data/car.txt',sep=',', header=None, usecols=[0, 1, 2, 3, 4, 5])"
   ]
  },
  {
   "cell_type": "code",
   "execution_count": 2,
   "metadata": {},
   "outputs": [],
   "source": [
    "#manipulation of 'buying' column of the data as setting 'vhigh' values to 1 and 'low' values to 4\n",
    "temp = data[0].copy()\n",
    "for i in range(len(temp)):\n",
    "    if(temp[i] == \"vhigh\"):\n",
    "       temp[i] = 1.0\n",
    "    elif(temp[i] == \"high\"):\n",
    "       temp[i] = 2.0\n",
    "    elif(temp[i] == \"med\"):\n",
    "       temp[i] = 3.0\n",
    "    elif(temp[i] == \"low\"):\n",
    "       temp[i] = 4.0\n",
    "    else:\n",
    "        temp[i] = float(temp[i])\n",
    "data[0] = temp\n",
    "\n",
    "#manipulation of 'maint' column of the data as setting 'vhigh' values to 1 and 'low' values to 4\n",
    "temp = data[1].copy()\n",
    "for i in range(len(temp)):\n",
    "    if(temp[i] == \"vhigh\"):\n",
    "       temp[i] = 1.0\n",
    "    elif(temp[i] == \"high\"):\n",
    "       temp[i] = 2.0\n",
    "    elif(temp[i] == \"med\"):\n",
    "       temp[i] = 3.0\n",
    "    elif(temp[i] == \"low\"):\n",
    "       temp[i] = 4.0\n",
    "    else:\n",
    "        temp[i] = float(temp[i])\n",
    "data[1] = temp\n",
    "\n",
    "#manipulation of 'doors' column of the data as setting '2' values to 1 and '5more' values to 4\n",
    "temp = data[2].copy()\n",
    "for i in range(len(temp)):\n",
    "    if(temp[i] == \"2\"):\n",
    "       temp[i] = 1.0\n",
    "    elif(temp[i] == \"3\"):\n",
    "       temp[i] = 2.0\n",
    "    elif(temp[i] == \"4\"):\n",
    "       temp[i] = 3.0\n",
    "    elif(temp[i] == \"5more\"):\n",
    "       temp[i] = 4.0\n",
    "    else:\n",
    "        temp[i] = float(temp[i])\n",
    "data[2] = temp\n",
    "\n",
    "#manipulation of 'persons' column of the data as setting '2' values to '1' and 'more' values to 3\n",
    "temp = data[3].copy()\n",
    "for i in range(len(temp)):\n",
    "    if(temp[i] == \"2\"):\n",
    "       temp[i] = 1.0\n",
    "    elif(temp[i] == \"4\"):\n",
    "       temp[i] = 2.0\n",
    "    elif(temp[i] == \"more\"):\n",
    "       temp[i] = 3.0\n",
    "    else:\n",
    "        temp[i] = float(temp[i])\n",
    "data[3] = temp\n",
    "\n",
    "#manipulation of 'lug_boot' column of the data as setting 'small' values to 1 and 'big' values to 3\n",
    "temp = data[4].copy()\n",
    "for i in range(len(temp)):\n",
    "    if(temp[i] == \"small\"):\n",
    "       temp[i] = 1.0\n",
    "    elif(temp[i] == \"med\"):\n",
    "       temp[i] = 2.0\n",
    "    elif(temp[i] == \"big\"):\n",
    "       temp[i] = 3.0\n",
    "    else:\n",
    "        temp[i] = float(temp[i])\n",
    "data[4] = temp\n",
    "\n",
    "#manipulation of 'safety' column of the data as setting 'low' values to 1 and 'high' values to 3\n",
    "temp = data[5].copy()\n",
    "for i in range(len(temp)):\n",
    "    if(temp[i] == \"low\"):\n",
    "       temp[i] = 1.0\n",
    "    elif(temp[i] == \"med\"):\n",
    "       temp[i] = 2.0\n",
    "    elif(temp[i] == \"high\"):\n",
    "       temp[i] = 3.0\n",
    "    else:\n",
    "        temp[i] = float(temp[i])\n",
    "data[5] = temp"
   ]
  },
  {
   "cell_type": "code",
   "execution_count": 3,
   "metadata": {},
   "outputs": [
    {
     "data": {
      "text/plain": [
       "{1.0: 1210, 2.0: 384, 3.0: 69, 4.0: 65}"
      ]
     },
     "execution_count": 3,
     "metadata": {},
     "output_type": "execute_result"
    }
   ],
   "source": [
    "target = pd.read_csv(u'data/car.txt',sep=',', header=None, usecols=[6])\n",
    "\n",
    "#manipulation of 'target' column of the data as setting 'unacc' values to 1 and 'vgood' values to 4\n",
    "temp = target[6].copy()\n",
    "for i in range(len(temp)):\n",
    "    if(temp[i] == \"unacc\"):\n",
    "       temp[i] = 1.0\n",
    "    elif(temp[i] == \"acc\"):\n",
    "       temp[i] = 2.0\n",
    "    elif(temp[i] == \"good\"):\n",
    "       temp[i] = 3.0\n",
    "    elif(temp[i] == \"vgood\"):\n",
    "       temp[i] = 4.0\n",
    "    else:\n",
    "        temp[i] = float(temp[i])\n",
    "target = temp\n",
    "\n",
    "#lists targeted label counts\n",
    "unique, counts = np.unique(target, return_counts=True)\n",
    "dict(zip(unique, counts))"
   ]
  },
  {
   "cell_type": "code",
   "execution_count": 5,
   "metadata": {},
   "outputs": [],
   "source": [
    "w = np.array([1.,1.,1.,1.,1.,1.])\n",
    "\n",
    "eta = 0.000005\n",
    "\n",
    "def f(x, w):\n",
    "    return x.dot(w)\n",
    "\n",
    "def E(y, f):\n",
    "    return np.sum((y-f)**2)"
   ]
  },
  {
   "cell_type": "code",
   "execution_count": 6,
   "metadata": {},
   "outputs": [
    {
     "name": "stdout",
     "output_type": "stream",
     "text": [
      "136955.7651320161\n",
      "578.7640966448904\n",
      "578.7637254937247\n",
      "578.7637254901965\n",
      "578.7637254901962\n",
      "578.763725490196\n",
      "578.7637254901967\n",
      "578.7637254901967\n",
      "578.7637254901967\n",
      "578.7637254901967\n"
     ]
    }
   ],
   "source": [
    "for i in range(10000):\n",
    "    e = target - f(data, w)\n",
    "    dE = -data.T.dot(e)\n",
    "    w = w - eta * dE\n",
    "    if(i%1000==0):\n",
    "        print(E(target, f(data, w)))"
   ]
  },
  {
   "cell_type": "code",
   "execution_count": 7,
   "metadata": {},
   "outputs": [
    {
     "data": {
      "text/plain": [
       "array([[916., 294.,   0.,   0.],\n",
       "       [ 39., 345.,   0.,   0.],\n",
       "       [  0.,  69.,   0.,   0.],\n",
       "       [  0.,  65.,   0.,   0.]])"
      ]
     },
     "execution_count": 7,
     "metadata": {},
     "output_type": "execute_result"
    }
   ],
   "source": [
    "result = np.round(np.array(f(data, w)).astype(np.float))\n",
    "\n",
    "confusion_matrix = np.zeros((4,4))\n",
    "\n",
    "for i in range(len(result)):\n",
    "    confusion_matrix[int(target[i] - 1), int(result[i] - 1)] += 1\n",
    "    \n",
    "confusion_matrix"
   ]
  },
  {
   "cell_type": "code",
   "execution_count": 8,
   "metadata": {},
   "outputs": [
    {
     "name": "stdout",
     "output_type": "stream",
     "text": [
      "Accuracy is: 72.97453703703704 %\n"
     ]
    }
   ],
   "source": [
    "accuracy = np.sum(np.diag(confusion_matrix))/np.sum(confusion_matrix)\n",
    "\n",
    "print(\"Accuracy is:\", accuracy*100, \"%\")"
   ]
  },
  {
   "cell_type": "code",
   "execution_count": null,
   "metadata": {
    "collapsed": true
   },
   "outputs": [],
   "source": []
  }
 ],
 "metadata": {
  "kernelspec": {
   "display_name": "Python 3",
   "language": "python",
   "name": "python3"
  },
  "language_info": {
   "codemirror_mode": {
    "name": "ipython",
    "version": 3
   },
   "file_extension": ".py",
   "mimetype": "text/x-python",
   "name": "python",
   "nbconvert_exporter": "python",
   "pygments_lexer": "ipython3",
   "version": "3.7.0"
  }
 },
 "nbformat": 4,
 "nbformat_minor": 2
}
