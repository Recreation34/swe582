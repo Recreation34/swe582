{
 "cells": [
  {
   "cell_type": "code",
   "execution_count": 62,
   "metadata": {
    "collapsed": true
   },
   "outputs": [],
   "source": [
    "#matplotlib inline\n",
    "import matplotlib.pylab as plt\n",
    "import numpy as np\n",
    "\n",
    "import torch\n",
    "import torch.autograd\n",
    "from torch.autograd import Variable"
   ]
  },
  {
   "cell_type": "code",
   "execution_count": 101,
   "metadata": {},
   "outputs": [],
   "source": [
    "df_iris = pd.read_csv(u'data/iris.txt',sep=' ')\n",
    "\n",
    "target = torch.from_numpy(np.array(df_iris['c'])).double()\n",
    "features = torch.from_numpy(np.array(df_iris[['sl','sw','pl','pw']])).double()"
   ]
  },
  {
   "cell_type": "code",
   "execution_count": 106,
   "metadata": {
    "scrolled": true
   },
   "outputs": [],
   "source": [
    "w = Variable(20*torch.randn(4).double(), requires_grad=True)\n",
    "\n",
    "eta = 0.00005"
   ]
  },
  {
   "cell_type": "code",
   "execution_count": 107,
   "metadata": {},
   "outputs": [
    {
     "name": "stdout",
     "output_type": "stream",
     "text": [
      "tensor([-5.2298,  6.7188,  2.7034,  1.5384], dtype=torch.float64)\n"
     ]
    }
   ],
   "source": [
    "for epoch in range(1000):\n",
    "    for i in range(len(features)):\n",
    "        f = torch.matmul(features[i],w)\n",
    "        \n",
    "        E = (target[i]-f)**2\n",
    "\n",
    "        E.backward()\n",
    "\n",
    "    w.data.add_(-eta * w.grad.data)\n",
    "    \n",
    "    w.grad.zero_()\n",
    "    \n",
    "ws = w.data\n",
    "print(ws)"
   ]
  },
  {
   "cell_type": "code",
   "execution_count": null,
   "metadata": {},
   "outputs": [],
   "source": []
  }
 ],
 "metadata": {
  "kernelspec": {
   "display_name": "Python 3",
   "language": "python",
   "name": "python3"
  },
  "language_info": {
   "codemirror_mode": {
    "name": "ipython",
    "version": 3
   },
   "file_extension": ".py",
   "mimetype": "text/x-python",
   "name": "python",
   "nbconvert_exporter": "python",
   "pygments_lexer": "ipython3",
   "version": "3.6.3"
  }
 },
 "nbformat": 4,
 "nbformat_minor": 2
}
