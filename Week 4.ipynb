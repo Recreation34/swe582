{
 "cells": [
  {
   "cell_type": "code",
   "execution_count": 10,
   "metadata": {
    "collapsed": true
   },
   "outputs": [],
   "source": [
    "import numpy as np\n",
    "import pandas as pd\n",
    "\n",
    "df_iris = pd.read_csv(u'data/iris.txt',sep=' ')\n",
    "\n",
    "features = np.array(df_iris[['sl', 'sw', 'pl', 'pw']])\n",
    "\n",
    "target = np.array(df_iris['c'])\n",
    "\n",
    "w = np.array([1.,1.,1.,1.])\n",
    "\n",
    "eta = 0.0001"
   ]
  },
  {
   "cell_type": "code",
   "execution_count": 11,
   "metadata": {
    "collapsed": true
   },
   "outputs": [],
   "source": [
    "def f(x, w):\n",
    "    return x.dot(w)\n",
    "\n",
    "def E(y, f_est):\n",
    "    return np.sum((y-f_est)**2)"
   ]
  },
  {
   "cell_type": "code",
   "execution_count": 16,
   "metadata": {},
   "outputs": [],
   "source": [
    "for epoch in range(10000):\n",
    "    f_est = f(features, w)\n",
    "    e = target - f_est\n",
    "    dE = -features.T.dot(e)\n",
    "    \n",
    "    w = w - eta * dE"
   ]
  },
  {
   "cell_type": "code",
   "execution_count": 22,
   "metadata": {},
   "outputs": [
    {
     "data": {
      "text/plain": [
       "array([[ 50.,   0.,   0.],\n",
       "       [  0.,  48.,   2.],\n",
       "       [  0.,   4.,  46.]])"
      ]
     },
     "execution_count": 22,
     "metadata": {},
     "output_type": "execute_result"
    }
   ],
   "source": [
    "result = np.round(f(features, w))\n",
    "\n",
    "confusion_matrix = np.zeros((3,3))\n",
    "\n",
    "for i in range(len(result)):\n",
    "    confusion_matrix[int(target[i] - 1), int(result[i] - 1)] += 1\n",
    "    \n",
    "confusion_matrix"
   ]
  },
  {
   "cell_type": "code",
   "execution_count": 28,
   "metadata": {},
   "outputs": [
    {
     "name": "stdout",
     "output_type": "stream",
     "text": [
      "Accuracy is: 96.0 %\n"
     ]
    }
   ],
   "source": [
    "accuracy = np.sum(np.diag(confusion_matrix))/np.sum(confusion_matrix)\n",
    "\n",
    "print(\"Accuracy is:\", accuracy*100, \"%\")"
   ]
  },
  {
   "cell_type": "code",
   "execution_count": null,
   "metadata": {
    "collapsed": true
   },
   "outputs": [],
   "source": []
  }
 ],
 "metadata": {
  "kernelspec": {
   "display_name": "Python 3",
   "language": "python",
   "name": "python3"
  },
  "language_info": {
   "codemirror_mode": {
    "name": "ipython",
    "version": 3
   },
   "file_extension": ".py",
   "mimetype": "text/x-python",
   "name": "python",
   "nbconvert_exporter": "python",
   "pygments_lexer": "ipython3",
   "version": "3.6.3"
  }
 },
 "nbformat": 4,
 "nbformat_minor": 2
}
