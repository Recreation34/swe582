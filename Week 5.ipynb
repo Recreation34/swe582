{
 "cells": [
  {
   "cell_type": "code",
   "execution_count": 6,
   "metadata": {
    "collapsed": true
   },
   "outputs": [],
   "source": [
    "#matplotlib inline\n",
    "import matplotlib.pylab as plt\n",
    "import numpy as np\n",
    "\n",
    "import torch\n",
    "import torch.autograd\n",
    "from torch.autograd import Variable"
   ]
  },
  {
   "cell_type": "code",
   "execution_count": 7,
   "metadata": {
    "collapsed": true
   },
   "outputs": [],
   "source": [
    "y = [1,2,3,-1]\n",
    "x = [-2,-1,0,1]"
   ]
  },
  {
   "cell_type": "code",
   "execution_count": 8,
   "metadata": {
    "collapsed": true
   },
   "outputs": [],
   "source": [
    "w = Variable(20*torch.randn(4).double(), requires_grad=True)\n",
    "\n",
    "eta = 0.0005"
   ]
  },
  {
   "cell_type": "code",
   "execution_count": 19,
   "metadata": {},
   "outputs": [
    {
     "name": "stdout",
     "output_type": "stream",
     "text": [
      "tensor([ -9.9293, -18.6784,   2.7782,  -7.6422], dtype=torch.float64)\n"
     ]
    }
   ],
   "source": [
    "for epoch in range(1000):\n",
    "    for i in range(len(x)):\n",
    "        f = w[0]*torch.sin(w[1]*x[i]) + w[2]*torch.cos(w[3]*x[i])\n",
    "        \n",
    "        E = (y[i]-f)**2\n",
    "        \n",
    "        E.backward()\n",
    "    \n",
    "    w.data.add_(-eta * w.grad.data)\n",
    "    \n",
    "    w.grad.zero_()\n",
    "    \n",
    "ws = w.data\n",
    "print(ws)"
   ]
  },
  {
   "cell_type": "code",
   "execution_count": 20,
   "metadata": {},
   "outputs": [
    {
     "name": "stdout",
     "output_type": "stream",
     "text": [
      "tensor([ -9.9301, -18.6795,   2.7690,  -7.6446], dtype=torch.float64)\n"
     ]
    }
   ],
   "source": [
    "#stochastic gradient descent\n",
    "for epoch in range(1000):\n",
    "    for i in range(len(x)):\n",
    "        f = w[0]*torch.sin(w[1]*x[i]) + w[2]*torch.cos(w[3]*x[i])\n",
    "        \n",
    "        E = (y[i]-f)**2\n",
    "        \n",
    "        E.backward()\n",
    "        w.data.add_(-eta * w.grad.data) \n",
    "        w.grad.zero_()\n",
    "    \n",
    "ws = w.data\n",
    "print(ws)"
   ]
  },
  {
   "cell_type": "code",
   "execution_count": null,
   "metadata": {
    "collapsed": true
   },
   "outputs": [],
   "source": []
  }
 ],
 "metadata": {
  "kernelspec": {
   "display_name": "Python 3",
   "language": "python",
   "name": "python3"
  },
  "language_info": {
   "codemirror_mode": {
    "name": "ipython",
    "version": 3
   },
   "file_extension": ".py",
   "mimetype": "text/x-python",
   "name": "python",
   "nbconvert_exporter": "python",
   "pygments_lexer": "ipython3",
   "version": "3.6.3"
  }
 },
 "nbformat": 4,
 "nbformat_minor": 2
}
