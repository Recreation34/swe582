{
 "cells": [
  {
   "cell_type": "markdown",
   "metadata": {},
   "source": [
    "\\begin{align}\n",
    "E(w) & = \\sum_{i=1}^N -y_i(x_i^Tw) + log(1+e^{x_i^Tw}) \\\\\n",
    "\\frac{\\partial E}{\\partial w} & = \\sum_{i=1}^N x_i(\\sigma(x_i^Tw) -y_i)\n",
    "\\end{align}"
   ]
  },
  {
   "cell_type": "code",
   "execution_count": 10,
   "metadata": {},
   "outputs": [
    {
     "name": "stdout",
     "output_type": "stream",
     "text": [
      "[ 0.70833163  0.84731964  0.35033528  0.53607422]\n"
     ]
    }
   ],
   "source": [
    "#matplotlib inline\n",
    "import numpy as np\n",
    "\n",
    "def sigmoid(x):\n",
    "    return 1 / (1 + np.exp(-x))\n",
    "\n",
    "eta = 0.0001\n",
    "trials = 1000\n",
    "\n",
    "E = 0\n",
    "dE = 0\n",
    "\n",
    "x = np.round(np.random.rand(100,4))\n",
    "y = np.round(np.random.rand(100))\n",
    "w = np.ones(4)\n",
    "\n",
    "for epoch in range(trials):\n",
    "    for i in range(len(x)):\n",
    "        E += -y[i] * x[i].T.dot(w) + np.log(1 + np.exp(x[i].T.dot(w)))\n",
    "\n",
    "        dE += x[i] * (sigmoid(x[i].T.dot(w)) - y[i])\n",
    "        \n",
    "        w = w - eta * dE\n",
    "        \n",
    "print(w)"
   ]
  },
  {
   "cell_type": "code",
   "execution_count": null,
   "metadata": {
    "collapsed": true
   },
   "outputs": [],
   "source": []
  }
 ],
 "metadata": {
  "kernelspec": {
   "display_name": "Python 3",
   "language": "python",
   "name": "python3"
  },
  "language_info": {
   "codemirror_mode": {
    "name": "ipython",
    "version": 3
   },
   "file_extension": ".py",
   "mimetype": "text/x-python",
   "name": "python",
   "nbconvert_exporter": "python",
   "pygments_lexer": "ipython3",
   "version": "3.6.3"
  }
 },
 "nbformat": 4,
 "nbformat_minor": 2
}
