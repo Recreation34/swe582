{
 "cells": [
  {
   "cell_type": "code",
   "execution_count": 9,
   "metadata": {
    "collapsed": true
   },
   "outputs": [],
   "source": [
    "import numpy as np\n",
    "import pandas as pd\n",
    "\n",
    "import torch\n",
    "import torch.autograd\n",
    "from torch.autograd import Variable\n",
    "\n",
    "df_iris = pd.read_csv(u'data/iris.txt',sep=' ')\n",
    "\n",
    "eta = 0.0001\n",
    "\n",
    "trials = 1000"
   ]
  },
  {
   "cell_type": "code",
   "execution_count": 12,
   "metadata": {},
   "outputs": [
    {
     "name": "stdout",
     "output_type": "stream",
     "text": [
      "Linear Regression W is: [-0.01245586  0.16331546  0.22548113  0.59811822]\n",
      "Linear Regression Accuracy is: 96.0 %\n"
     ]
    }
   ],
   "source": [
    "def f(x, w):\n",
    "    return x.dot(w)\n",
    "\n",
    "def E(y, f_est):\n",
    "    return np.sum((y-f_est)**2)\n",
    "\n",
    "x1 = np.array(df_iris[['sl', 'sw', 'pl', 'pw']])\n",
    "\n",
    "y1 = np.array(df_iris['c'])\n",
    "\n",
    "w1 = np.array([1.,1.,1.,1.])\n",
    "\n",
    "for epoch in range(trials):\n",
    "    f_est = f(x1, w1)\n",
    "    e = y1 - f_est\n",
    "    dE = -x1.T.dot(e)\n",
    "    \n",
    "    w1 = w1 - eta * dE\n",
    "    \n",
    "result1 = np.round(f1(x1, w1))\n",
    "\n",
    "confusion_matrix1 = np.zeros((3,3))\n",
    "\n",
    "for i in range(len(result1)):\n",
    "    confusion_matrix1[int(y1[i] - 1), int(result1[i] - 1)] += 1\n",
    "    \n",
    "accuracy1 = np.sum(np.diag(confusion_matrix1))/np.sum(confusion_matrix1)\n",
    "\n",
    "print(\"Linear Regression W is:\", w1)\n",
    "print(\"Linear Regression Accuracy is:\", accuracy1*100, \"%\")"
   ]
  },
  {
   "cell_type": "code",
   "execution_count": 13,
   "metadata": {},
   "outputs": [
    {
     "name": "stdout",
     "output_type": "stream",
     "text": [
      "Logical Regression W is: tensor([ 0.6339,  0.6548, -1.5568, -1.6126], dtype=torch.float64)\n",
      "Logical Regression Accuracy is: tensor(100.) %\n"
     ]
    }
   ],
   "source": [
    "def logsumexp(b):\n",
    "    return torch.log(1 + torch.exp(b))\n",
    "\n",
    "def sigmoid(x):\n",
    "    return 1 / (1 + torch.exp(-x))\n",
    "\n",
    "y2 = torch.from_numpy(np.array(df_iris['c'])).double()\n",
    "y2[y2>1]=0\n",
    "\n",
    "x2 = torch.from_numpy(np.array(df_iris[['sl','sw','pl','pw']])).double()\n",
    "\n",
    "ws = Variable(torch.randn(4).double(), requires_grad=True)\n",
    "\n",
    "for epoch in range(trials):\n",
    "    for i in range(len(y2)):\n",
    "        f = torch.matmul(x2[i,:],ws)\n",
    "        \n",
    "        E = -y2[i]*f + logsumexp(f)\n",
    "\n",
    "        E.backward()\n",
    "\n",
    "    ws.data.add_(-eta * ws.grad.data)\n",
    "    \n",
    "    ws.grad.zero_()\n",
    "    \n",
    "w2 = ws.data\n",
    "\n",
    "result2 = torch.round(sigmoid(torch.matmul(x2,w2)))\n",
    "\n",
    "confusion_matrix2 = torch.zeros((2,2))\n",
    "\n",
    "for i in range(len(result2)):\n",
    "    confusion_matrix2[int(y2[i] - 1), int(result2[i] - 1)] += 1\n",
    "    \n",
    "accuracy2 = torch.sum(torch.diag(confusion_matrix2))/torch.sum(confusion_matrix2)\n",
    "\n",
    "print(\"Logical Regression W is:\", w2)\n",
    "print(\"Logical Regression Accuracy is:\", accuracy2*100, \"%\")"
   ]
  }
 ],
 "metadata": {
  "kernelspec": {
   "display_name": "Python 3",
   "language": "python",
   "name": "python3"
  },
  "language_info": {
   "codemirror_mode": {
    "name": "ipython",
    "version": 3
   },
   "file_extension": ".py",
   "mimetype": "text/x-python",
   "name": "python",
   "nbconvert_exporter": "python",
   "pygments_lexer": "ipython3",
   "version": "3.6.3"
  }
 },
 "nbformat": 4,
 "nbformat_minor": 2
}
