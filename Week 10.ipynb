{
 "cells": [
  {
   "cell_type": "code",
   "execution_count": 1,
   "metadata": {},
   "outputs": [],
   "source": [
    "import torch\n",
    "\n",
    "import pandas as pd\n",
    "import numpy as np\n",
    "\n",
    "# loading 60.000 rows of training data from MNIST\n",
    "df_mnist = pd.read_csv(u'data/mnist_train.csv', sep=',', header=None)\n",
    "\n",
    "# distributing the data as features & target\n",
    "features, target = np.array(df_mnist.iloc[:, [i+1 for i in range(784)]]), np.array(df_mnist.iloc[:, 0])"
   ]
  },
  {
   "cell_type": "code",
   "execution_count": 2,
   "metadata": {},
   "outputs": [
    {
     "name": "stdout",
     "output_type": "stream",
     "text": [
      "0 25406.67578125\n",
      "500 477.96466064453125\n",
      "1000 289.9354553222656\n",
      "1500 231.67152404785156\n",
      "2000 285.6107177734375\n",
      "2500 211.6334686279297\n",
      "3000 192.4965362548828\n",
      "3500 265.86175537109375\n",
      "4000 303.474609375\n",
      "4500 173.66099548339844\n",
      "4999 272.0728454589844\n"
     ]
    }
   ],
   "source": [
    "# N is batch size, getting N rows in every iteration; D_in is input dimension 28x28=784;\n",
    "# H is hidden dimension, we decide; D_out is output dimension, which is 1.\n",
    "N, D_in, H, D_out = 1000, 784, 28, 10\n",
    "\n",
    "# defining the functions to be used between our layers\n",
    "model = torch.nn.Sequential(\n",
    "    torch.nn.Linear(D_in, H),\n",
    "    torch.nn.ReLU(),\n",
    "    torch.nn.Linear(H, D_out),\n",
    ")\n",
    "\n",
    "# defining the loss function\n",
    "loss_fn = torch.nn.CrossEntropyLoss(reduction='sum')\n",
    "\n",
    "# eta value of this regression\n",
    "learning_rate = 0.005\n",
    "\n",
    "# defining optimizer algorithm\n",
    "optimizer = torch.optim.Adam(model.parameters(), lr=learning_rate)\n",
    "\n",
    "# defining epoch limit\n",
    "max_epoch = 5000\n",
    "\n",
    "# defining epoch step to print loss\n",
    "print_epoch = 500\n",
    "\n",
    "# starting epochs\n",
    "for t in range(max_epoch):\n",
    "    # selecting N rows for every epoch\n",
    "    idx = np.random.choice(len(features), size=N, replace=True)\n",
    "    \n",
    "    # fetching the selected data as x & y\n",
    "    x, y = torch.FloatTensor(features[idx]), torch.LongTensor(target[idx])\n",
    "    \n",
    "    # calculating y_pred by passing fetched x to our model\n",
    "    y_pred = model(x)\n",
    "\n",
    "    # comparing calculated y_pred and actual y\n",
    "    loss = loss_fn(y_pred, y)\n",
    "    \n",
    "    # printing the loss in every print_epoch epochs and at the last\n",
    "    if(t%print_epoch == 0 or t+1 == max_epoch):\n",
    "        print(t, loss.item())\n",
    "\n",
    "    # before the backward pass, zero all of the gradients for the variables it will update\n",
    "    optimizer.zero_grad()\n",
    "\n",
    "    # backward pass: compute gradient of the loss with respect to model parameters\n",
    "    loss.backward()\n",
    "\n",
    "    # update optimizer parameters\n",
    "    optimizer.step()"
   ]
  },
  {
   "cell_type": "code",
   "execution_count": 3,
   "metadata": {},
   "outputs": [
    {
     "name": "stdout",
     "output_type": "stream",
     "text": [
      "Result:\n",
      " tensor([7., 2., 1.,  ..., 4., 5., 6.]) \n",
      "\n",
      "Confusion matrix:\n",
      " tensor([[ 961.,    0.,    4.,    0.,    0.,    4.,    5.,    4.,    1.,    1.],\n",
      "        [   0., 1064.,   14.,    2.,    0.,    0.,    4.,    8.,   43.,    0.],\n",
      "        [   9.,   12.,  956.,    5.,    4.,    1.,   11.,   15.,   17.,    2.],\n",
      "        [   3.,   16.,   46.,  882.,    0.,   16.,    2.,   13.,   19.,   13.],\n",
      "        [   1.,    4.,   19.,    0.,  897.,    5.,   17.,    5.,    8.,   26.],\n",
      "        [   6.,    1.,    4.,   49.,    2.,  755.,   13.,    4.,   51.,    7.],\n",
      "        [  11.,    1.,   11.,    0.,    5.,   14.,  899.,    1.,   16.,    0.],\n",
      "        [   4.,    9.,   27.,    1.,    5.,    2.,    0.,  946.,    1.,   33.],\n",
      "        [   8.,    8.,   16.,    1.,    7.,   11.,    6.,    7.,  901.,    9.],\n",
      "        [   4.,    3.,    4.,   11.,   31.,    8.,    0.,   22.,   11.,  915.]]) \n",
      "\n",
      "Accuracy: tensor(91.7600) %\n",
      "\n"
     ]
    }
   ],
   "source": [
    "# now, our model is trained, it is time for 10.000 rows of test data\n",
    "df_mnist_test = pd.read_csv(u'data/mnist_test.csv', sep=',', header=None)\n",
    "\n",
    "# distributing the test data as x_test & y_test\n",
    "x_test, y_test = torch.FloatTensor(np.array(df_mnist_test.iloc[:, [i+1 for i in range(784)]])), torch.LongTensor(np.array(df_mnist_test.iloc[:, 0]))\n",
    "\n",
    "# getting the 10-layer results of the test data from the trained model\n",
    "results = model(x_test)\n",
    "\n",
    "# preparing a 1-layer result array\n",
    "result = torch.zeros(len(results))\n",
    "\n",
    "# parsing the maximum valued layer as our result for every row\n",
    "for i in range(len(results)):\n",
    "    result[i] = results[i].argmax()\n",
    "\n",
    "print(\"Result:\\n\", result, \"\\n\")\n",
    "\n",
    "# building a confusion matrix\n",
    "confusion_matrix = torch.zeros((10, 10))\n",
    "\n",
    "# filling up the confusion matrix\n",
    "for i in range(len(result)):\n",
    "    confusion_matrix[int(y_test[i]), int(result[i])] += 1\n",
    "    \n",
    "print(\"Confusion matrix:\\n\", confusion_matrix, \"\\n\")\n",
    "    \n",
    "# calculating model accuracy\n",
    "accuracy = torch.sum(torch.diag(confusion_matrix))/torch.sum(confusion_matrix)\n",
    "\n",
    "print(\"Accuracy:\", accuracy*100, \"%\\n\")"
   ]
  },
  {
   "cell_type": "code",
   "execution_count": null,
   "metadata": {},
   "outputs": [],
   "source": []
  }
 ],
 "metadata": {
  "kernelspec": {
   "display_name": "Python 3",
   "language": "python",
   "name": "python3"
  },
  "language_info": {
   "codemirror_mode": {
    "name": "ipython",
    "version": 3
   },
   "file_extension": ".py",
   "mimetype": "text/x-python",
   "name": "python",
   "nbconvert_exporter": "python",
   "pygments_lexer": "ipython3",
   "version": "3.7.0"
  }
 },
 "nbformat": 4,
 "nbformat_minor": 2
}
