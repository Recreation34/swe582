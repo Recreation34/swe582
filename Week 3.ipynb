{
 "cells": [
  {
   "cell_type": "code",
   "execution_count": null,
   "metadata": {
    "collapsed": true
   },
   "outputs": [],
   "source": [
    "import numpy as np\n",
    "\n",
    "x = np.array([1.1 , 2 , 3.2])\n",
    "y = np.array([-1, 0.5, 1.7])\n",
    "\n",
    "def f(x, w):\n",
    "    return x*w\n",
    "\n",
    "def E(w):\n",
    "    return np.sum((y-f(x,w))**2)\n",
    "\n",
    "def dE(w):\n",
    "    return np.sum(-2*x*(y-f(x,w)))\n",
    "\n",
    "w = 0.345631\n",
    "eta = 0.01\n",
    "\n",
    "for e in range(100):\n",
    "    w = w - eta*dE(w)\n",
    "    print(dE(w), E(w), w)"
   ]
  },
  {
   "cell_type": "code",
   "execution_count": null,
   "metadata": {
    "collapsed": true
   },
   "outputs": [],
   "source": []
  }
 ],
 "metadata": {
  "kernelspec": {
   "display_name": "Python 3",
   "language": "python",
   "name": "python3"
  }
 },
 "nbformat": 4,
 "nbformat_minor": 2
}
