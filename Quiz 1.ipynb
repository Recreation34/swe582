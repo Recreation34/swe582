{
 "cells": [
  {
   "cell_type": "code",
   "execution_count": 1,
   "metadata": {},
   "outputs": [],
   "source": [
    "import torch\n",
    "import torch.autograd\n",
    "from torch.autograd import Variable\n",
    "import matplotlib.pyplot as plt\n",
    "import pandas as pd\n",
    "import numpy as np\n",
    "\n",
    "def logsumexp(b):\n",
    "    return torch.log(1 + torch.exp(b))\n",
    "\n",
    "def mlp(x, Weight, Bias):\n",
    "    f = Variable(x, requires_grad=False) # Initializing f with x\n",
    "\n",
    "    # f = sigmoid(w.dot(x) + b)\n",
    "    for i in range(len(Weight)):\n",
    "        f = torch.sigmoid(torch.matmul(Weight[i], f) + Bias[i])\n",
    "    return f\n",
    "\n",
    "def generateWeight(sizes):\n",
    "    Weight = []\n",
    "    \n",
    "    for i in range(len(sizes)-1):\n",
    "        # For layer i, Weights are a sizes[i+1] x sizes[i] matrix\n",
    "        Weight.append(Variable(torch.randn(sizes[i+1], sizes[i]).double(), requires_grad=True))\n",
    "\n",
    "    return Weight\n",
    "\n",
    "def generateBias(sizes):\n",
    "    Bias = []\n",
    "\n",
    "    for i in range(len(sizes)-1):\n",
    "        # For layer i, Biases are a sizes[i+1] x 1 vector\n",
    "        Bias.append(Variable(torch.randn(sizes[i+1], 1).double(), requires_grad=True))\n",
    "        \n",
    "    return Bias"
   ]
  },
  {
   "cell_type": "code",
   "execution_count": 2,
   "metadata": {},
   "outputs": [],
   "source": [
    "num_rows_fetched = 5000\n",
    "num_rows_selected = 500\n",
    "\n",
    "df_mnist = pd.read_csv(u'mnist_train.csv', sep=',', header=None, nrows=num_rows_fetched)\n",
    "x = torch.from_numpy(np.array(df_mnist.iloc[:, [i+1 for i in range(784)]])).double()\n",
    "y = torch.from_numpy(np.array(df_mnist.iloc[:, 0])).double()\n",
    "y[y>1] = 1"
   ]
  },
  {
   "cell_type": "code",
   "execution_count": 6,
   "metadata": {},
   "outputs": [
    {
     "name": "stdout",
     "output_type": "stream",
     "text": [
      "In epoch  0 , EE is: [[0.51929872]]\n",
      "In epoch  25 , EE is: [[0.38006157]]\n",
      "In epoch  50 , EE is: [[0.96392683]]\n",
      "In epoch  75 , EE is: [[0.4801879]]\n",
      "In epoch  100 , EE is: [[0.39449553]]\n",
      "In epoch  125 , EE is: [[0.36538554]]\n",
      "In epoch  150 , EE is: [[0.42323163]]\n",
      "In epoch  175 , EE is: [[0.53407228]]\n",
      "In epoch  200 , EE is: [[0.40472132]]\n",
      "In epoch  225 , EE is: [[0.45005968]]\n",
      "In epoch  250 , EE is: [[0.56949653]]\n",
      "In epoch  275 , EE is: [[0.40444124]]\n",
      "In epoch  299 , EE is: [[0.49759882]]\n"
     ]
    }
   ],
   "source": [
    "sizes = [784, 5, 1]\n",
    "\n",
    "Weight = generateWeight(sizes)\n",
    "Bias = generateBias(sizes)\n",
    "\n",
    "eta = 0.0007\n",
    "MAX_ITER = 300\n",
    "EE = []\n",
    "\n",
    "for epoch in range(MAX_ITER):\n",
    "    idx = np.random.choice(len(x), num_rows_selected, replace=True)\n",
    "\n",
    "    for i in idx:\n",
    "        f = mlp(x[i,:].reshape(sizes[0], 1), Weight, Bias)\n",
    "\n",
    "        E = -y[i].reshape(sizes[-1], 1) * f + logsumexp(f)\n",
    "        EE.append(E.data.numpy())\n",
    "\n",
    "        # Compute the derivative of the error with respect to Weights and Biases\n",
    "        E.backward() \n",
    "\n",
    "        # Take the step and reset weights\n",
    "        for j in range(len(sizes)-1):\n",
    "            Weight[j].data.add_(-eta*Weight[j].grad.data)\n",
    "            Bias[j].data.add_(-eta*Bias[j].grad.data)\n",
    "            Weight[j].grad.zero_()\n",
    "            Bias[j].grad.zero_()\n",
    "            \n",
    "    if(epoch%25==0):\n",
    "        print(\"In epoch \", epoch, \", EE is:\", EE[epoch])\n",
    "        \n",
    "print(\"In epoch \", epoch, \", EE is:\", EE[epoch])"
   ]
  },
  {
   "cell_type": "code",
   "execution_count": 7,
   "metadata": {},
   "outputs": [
    {
     "name": "stdout",
     "output_type": "stream",
     "text": [
      "Result:\n",
      " tensor([1., 1., 1.,  ..., 1., 1., 1.], grad_fn=<CopySlices>) \n",
      "\n",
      "Confusion matrix:\n",
      " tensor([[   0.,  460.],\n",
      "        [   0., 4540.]]) \n",
      "\n",
      "Accuracy: tensor(90.8000) %\n",
      "\n"
     ]
    }
   ],
   "source": [
    "test_rows_fetched = 5000\n",
    "\n",
    "df_mnist_test = pd.read_csv(u'mnist_test.csv', sep=',', header=None, nrows=test_rows_fetched)\n",
    "x_test = torch.from_numpy(np.array(df_mnist_test.iloc[:, [i+1 for i in range(784)]])).double()\n",
    "y_test = torch.from_numpy(np.array(df_mnist_test.iloc[:, 0])).double()\n",
    "y_test[y_test>1] = 1\n",
    "\n",
    "result = torch.zeros(len(y_test))\n",
    "        \n",
    "for i in range(len(y_test)):\n",
    "    result[i] = torch.round(mlp(x_test[i,:].reshape(sizes[0], 1), Weight, Bias))\n",
    "    \n",
    "print(\"Result:\\n\", result, \"\\n\")\n",
    "\n",
    "confusion_matrix = torch.zeros((2,2))\n",
    "\n",
    "for i in range(len(result)):\n",
    "    confusion_matrix[int(y_test[i]), int(result[i])] += 1\n",
    "    \n",
    "print(\"Confusion matrix:\\n\", confusion_matrix, \"\\n\")\n",
    "    \n",
    "accuracy = torch.sum(torch.diag(confusion_matrix))/torch.sum(confusion_matrix)\n",
    "\n",
    "print(\"Accuracy:\", accuracy*100, \"%\\n\")"
   ]
  },
  {
   "cell_type": "code",
   "execution_count": null,
   "metadata": {},
   "outputs": [],
   "source": []
  }
 ],
 "metadata": {
  "kernelspec": {
   "display_name": "Python 3",
   "language": "python",
   "name": "python3"
  },
  "language_info": {
   "codemirror_mode": {
    "name": "ipython",
    "version": 3
   },
   "file_extension": ".py",
   "mimetype": "text/x-python",
   "name": "python",
   "nbconvert_exporter": "python",
   "pygments_lexer": "ipython3",
   "version": "3.7.0"
  }
 },
 "nbformat": 4,
 "nbformat_minor": 2
}
