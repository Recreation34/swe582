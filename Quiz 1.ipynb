{
 "cells": [
  {
   "cell_type": "code",
   "execution_count": 1,
   "metadata": {},
   "outputs": [],
   "source": [
    "import torch\n",
    "import torch.autograd\n",
    "from torch.autograd import Variable\n",
    "\n",
    "import pandas as pd\n",
    "import numpy as np\n",
    "\n",
    "def logsumexp(b):\n",
    "    return torch.log(1 + torch.exp(b))\n",
    "\n",
    "def mlp(x, Weight, Bias, Func):\n",
    "    f = Variable(x, requires_grad=False) # Initializing f with x\n",
    "\n",
    "    # f = sigmoid(w.dot(x) + b)\n",
    "    for i in range(len(Weight)):\n",
    "        f = Func[i](torch.matmul(Weight[i], f) + Bias[i])\n",
    "    \n",
    "    return f\n",
    "\n",
    "def generate(sizes):\n",
    "    Weight = []\n",
    "    Bias = []\n",
    "    Func = []\n",
    "    \n",
    "    for i in range(len(sizes)-1):\n",
    "        # For layer i, Weights are a sizes[i+1] x sizes[i] matrix\n",
    "        Weight.append(Variable(torch.randn(sizes[i+1], sizes[i]).double(), requires_grad=True))\n",
    "        # For layer i, Biases are a sizes[i+1] x 1 vector\n",
    "        Bias.append(Variable(torch.randn(sizes[i+1], 1).double(), requires_grad=True))\n",
    "        Func.append(torch.sigmoid)\n",
    "\n",
    "    return Weight, Bias, Func"
   ]
  },
  {
   "cell_type": "code",
   "execution_count": 2,
   "metadata": {},
   "outputs": [],
   "source": [
    "# Variables\n",
    "sizes = [784, 28, 8, 1]\n",
    "\n",
    "eta = 0.1\n",
    "MAX_ITER = 250\n",
    "EE = []\n",
    "\n",
    "num_rows_fetched = 50000\n",
    "num_rows_selected = 250"
   ]
  },
  {
   "cell_type": "code",
   "execution_count": 3,
   "metadata": {},
   "outputs": [],
   "source": [
    "df_mnist = pd.read_csv(u'mnist_train.csv', sep=',', header=None, nrows=num_rows_fetched)\n",
    "x = torch.from_numpy(np.array(df_mnist.iloc[:, [i+1 for i in range(784)]])).double()\n",
    "y = torch.from_numpy(np.array(df_mnist.iloc[:, 0])).double()\n",
    "y[y>1] = 1"
   ]
  },
  {
   "cell_type": "code",
   "execution_count": 4,
   "metadata": {},
   "outputs": [
    {
     "name": "stdout",
     "output_type": "stream",
     "text": [
      "In epoch  0 , EE is: [[0.48743122]]\n",
      "In epoch  10 , EE is: [[0.37080437]]\n",
      "In epoch  20 , EE is: [[0.35799824]]\n",
      "In epoch  30 , EE is: [[0.36064521]]\n",
      "In epoch  40 , EE is: [[0.3386434]]\n",
      "In epoch  50 , EE is: [[0.33286545]]\n",
      "In epoch  60 , EE is: [[0.32903061]]\n",
      "In epoch  70 , EE is: [[0.32826569]]\n",
      "In epoch  80 , EE is: [[0.32288055]]\n",
      "In epoch  90 , EE is: [[0.32427654]]\n",
      "In epoch  100 , EE is: [[0.32133737]]\n",
      "In epoch  110 , EE is: [[0.32368378]]\n",
      "In epoch  120 , EE is: [[0.32364539]]\n",
      "In epoch  130 , EE is: [[0.32299619]]\n",
      "In epoch  140 , EE is: [[0.31998255]]\n",
      "In epoch  150 , EE is: [[0.31954335]]\n",
      "In epoch  160 , EE is: [[1.29662998]]\n",
      "In epoch  170 , EE is: [[0.32049927]]\n",
      "In epoch  180 , EE is: [[0.31886042]]\n",
      "In epoch  190 , EE is: [[0.31905814]]\n",
      "In epoch  200 , EE is: [[1.29913319]]\n",
      "In epoch  210 , EE is: [[0.31842659]]\n",
      "In epoch  220 , EE is: [[0.31949156]]\n",
      "In epoch  230 , EE is: [[0.31786267]]\n",
      "In epoch  240 , EE is: [[0.31800101]]\n",
      "In last epoch, EE is: [[0.3177125]]\n"
     ]
    }
   ],
   "source": [
    "#Error = torch.nn.BCELoss(reduction='elementwise_mean')\n",
    "\n",
    "Weight, Bias, Func = generate(sizes)\n",
    "\n",
    "for epoch in range(MAX_ITER):\n",
    "    idx = np.random.choice(len(x), num_rows_selected, replace=False)\n",
    "\n",
    "    for i in idx:\n",
    "        f = mlp(x[i,:].reshape(sizes[0], 1), Weight, Bias, Func)\n",
    "\n",
    "        E = -y[i].reshape(sizes[-1], 1) * f + logsumexp(f)\n",
    "        #E = Error(f, y[i].reshape(sizes[-1], 1))\n",
    "        EE.append(E.data.numpy())\n",
    "\n",
    "        # Compute the derivative of the error with respect to Weights and Biases\n",
    "        E.backward() \n",
    "\n",
    "        # Take the step and reset weights\n",
    "        for j in range(len(sizes)-1):\n",
    "            Weight[j].data.add_(-eta*Weight[j].grad.data)\n",
    "            Bias[j].data.add_(-eta*Bias[j].grad.data)\n",
    "        Weight[j].grad.zero_()\n",
    "        Bias[j].grad.zero_()\n",
    "            \n",
    "    if(epoch%10==0):\n",
    "        print(\"In epoch \", epoch, \", EE is:\", EE[epoch])\n",
    "        \n",
    "print(\"In last epoch, EE is:\", EE[epoch])"
   ]
  },
  {
   "cell_type": "code",
   "execution_count": 5,
   "metadata": {},
   "outputs": [
    {
     "name": "stdout",
     "output_type": "stream",
     "text": [
      "Result:\n",
      " tensor([1., 1., 1.,  ..., 1., 1., 1.], grad_fn=<CopySlices>) \n",
      "\n",
      "Confusion matrix:\n",
      " tensor([[   0.,  460.],\n",
      "        [   0., 4540.]]) \n",
      "\n",
      "Accuracy: tensor(90.8000) %\n",
      "\n"
     ]
    }
   ],
   "source": [
    "test_rows_fetched = 5000\n",
    "\n",
    "df_mnist_test = pd.read_csv(u'mnist_test.csv', sep=',', header=None, nrows=test_rows_fetched)\n",
    "x_test = torch.from_numpy(np.array(df_mnist_test.iloc[:, [i+1 for i in range(784)]])).double()\n",
    "y_test = torch.from_numpy(np.array(df_mnist_test.iloc[:, 0])).double()\n",
    "y_test[y_test>1] = 1\n",
    "\n",
    "result = torch.zeros(len(y_test))\n",
    "        \n",
    "for i in range(len(y_test)):\n",
    "    result[i] = torch.round(mlp(x_test[i,:].reshape(sizes[0], 1), Weight, Bias, Func))\n",
    "    \n",
    "print(\"Result:\\n\", result, \"\\n\")\n",
    "\n",
    "confusion_matrix = torch.zeros((2,2))\n",
    "\n",
    "for i in range(len(result)):\n",
    "    confusion_matrix[int(y_test[i]), int(result[i])] += 1\n",
    "    \n",
    "print(\"Confusion matrix:\\n\", confusion_matrix, \"\\n\")\n",
    "    \n",
    "accuracy = torch.sum(torch.diag(confusion_matrix))/torch.sum(confusion_matrix)\n",
    "\n",
    "print(\"Accuracy:\", accuracy*100, \"%\\n\")"
   ]
  },
  {
   "cell_type": "code",
   "execution_count": null,
   "metadata": {},
   "outputs": [],
   "source": []
  }
 ],
 "metadata": {
  "kernelspec": {
   "display_name": "Python 3",
   "language": "python",
   "name": "python3"
  },
  "language_info": {
   "codemirror_mode": {
    "name": "ipython",
    "version": 3
   },
   "file_extension": ".py",
   "mimetype": "text/x-python",
   "name": "python",
   "nbconvert_exporter": "python",
   "pygments_lexer": "ipython3",
   "version": "3.7.0"
  }
 },
 "nbformat": 4,
 "nbformat_minor": 2
}
